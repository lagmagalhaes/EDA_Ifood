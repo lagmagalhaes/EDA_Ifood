{
  "nbformat": 4,
  "nbformat_minor": 0,
  "metadata": {
    "colab": {
      "provenance": [],
      "mount_file_id": "14ta1T3q4sGecqYpn27FTBUEJa9k8iHkd",
      "authorship_tag": "ABX9TyNOyOLKFnU5rnoJXSJTKN8v",
      "include_colab_link": true
    },
    "kernelspec": {
      "name": "python3",
      "display_name": "Python 3"
    },
    "language_info": {
      "name": "python"
    }
  },
  "cells": [
    {
      "cell_type": "markdown",
      "metadata": {
        "id": "view-in-github",
        "colab_type": "text"
      },
      "source": [
        "<a href=\"https://colab.research.google.com/github/lagmagalhaes/EDA_Ifood/blob/main/Ifood_Parte_3.ipynb\" target=\"_parent\"><img src=\"https://colab.research.google.com/assets/colab-badge.svg\" alt=\"Open In Colab\"/></a>"
      ]
    },
    {
      "cell_type": "markdown",
      "source": [
        "#Desafio Ifood - Parte 3"
      ],
      "metadata": {
        "id": "SzeTPtaLHbUm"
      }
    },
    {
      "cell_type": "code",
      "source": [
        "# Importar Bibliotecas\n",
        "\n",
        "# Importar bibioteca para manipulação de dados\n",
        "import pandas as pd\n",
        "\n",
        "# Importar biblioteca para operações matematicas\n",
        "import numpy as np\n",
        "\n",
        "# Importando biblotecas para auxiliar na visualização dos dados\n",
        "import matplotlib.pyplot as plt\n",
        "import seaborn as sns"
      ],
      "metadata": {
        "id": "wDM5dyi71M7P"
      },
      "execution_count": null,
      "outputs": []
    },
    {
      "cell_type": "code",
      "source": [
        "# Carregar os dados e ler o arquivo.csv\n",
        "\n",
        "df = pd.read_csv(\"/content/drive/MyDrive/mkt_data.csv\")"
      ],
      "metadata": {
        "id": "zdBSecc11Riz"
      },
      "execution_count": null,
      "outputs": []
    },
    {
      "cell_type": "code",
      "source": [
        "# Mostrar o Arquivo\n",
        "df"
      ],
      "metadata": {
        "colab": {
          "base_uri": "https://localhost:8080/",
          "height": 461
        },
        "id": "9A5yUj1W1V2j",
        "outputId": "03e97e7d-5ea8-4343-d07f-88588022b986"
      },
      "execution_count": null,
      "outputs": [
        {
          "output_type": "execute_result",
          "data": {
            "text/plain": [
              "      Unnamed: 0   Income  Kidhome  Teenhome  Recency  MntWines  MntFruits  \\\n",
              "0              0  58138.0        0         0       58       635         88   \n",
              "1              1  46344.0        1         1       38        11          1   \n",
              "2              2  71613.0        0         0       26       426         49   \n",
              "3              3  26646.0        1         0       26        11          4   \n",
              "4              4  58293.0        1         0       94       173         43   \n",
              "...          ...      ...      ...       ...      ...       ...        ...   \n",
              "2200        2200  61223.0        0         1       46       709         43   \n",
              "2201        2201  64014.0        2         1       56       406          0   \n",
              "2202        2202  56981.0        0         0       91       908         48   \n",
              "2203        2203  69245.0        0         1        8       428         30   \n",
              "2204        2204  52869.0        1         1       40        84          3   \n",
              "\n",
              "      MntMeatProducts  MntFishProducts  MntSweetProducts  ...  \\\n",
              "0                 546              172                88  ...   \n",
              "1                   6                2                 1  ...   \n",
              "2                 127              111                21  ...   \n",
              "3                  20               10                 3  ...   \n",
              "4                 118               46                27  ...   \n",
              "...               ...              ...               ...  ...   \n",
              "2200              182               42               118  ...   \n",
              "2201               30                0                 0  ...   \n",
              "2202              217               32                12  ...   \n",
              "2203              214               80                30  ...   \n",
              "2204               61                2                 1  ...   \n",
              "\n",
              "      education_Graduation  education_Master  education_PhD  MntTotal  \\\n",
              "0                      3.0               NaN            NaN      1529   \n",
              "1                      3.0               NaN            NaN        21   \n",
              "2                      3.0               NaN            NaN       734   \n",
              "3                      3.0               NaN            NaN        48   \n",
              "4                      NaN               NaN            5.0       407   \n",
              "...                    ...               ...            ...       ...   \n",
              "2200                   3.0               NaN            NaN      1094   \n",
              "2201                   NaN               NaN            5.0       436   \n",
              "2202                   3.0               NaN            NaN      1217   \n",
              "2203                   NaN               4.0            NaN       782   \n",
              "2204                   NaN               NaN            5.0       151   \n",
              "\n",
              "      MntRegularProds  AcceptedCmpOverall  marital_status  education_level  \\\n",
              "0                1441                   0          Single       Graduation   \n",
              "1                  15                   0          Single       Graduation   \n",
              "2                 692                   0        Together       Graduation   \n",
              "3                  43                   0        Together       Graduation   \n",
              "4                 392                   0         Married              PhD   \n",
              "...               ...                 ...             ...              ...   \n",
              "2200              847                   0         Married       Graduation   \n",
              "2201              428                   1        Together              PhD   \n",
              "2202             1193                   1        Divorced       Graduation   \n",
              "2203              721                   0        Together           Master   \n",
              "2204              130                   0         Married              PhD   \n",
              "\n",
              "      kids  expenses  \n",
              "0        0      1529  \n",
              "1        2        21  \n",
              "2        0       734  \n",
              "3        1        48  \n",
              "4        1       407  \n",
              "...    ...       ...  \n",
              "2200     1      1094  \n",
              "2201     3       436  \n",
              "2202     0      1217  \n",
              "2203     1       782  \n",
              "2204     2       151  \n",
              "\n",
              "[2205 rows x 44 columns]"
            ],
            "text/html": [
              "\n",
              "  <div id=\"df-a299cf1b-b28a-4258-adf5-de2dbf898640\" class=\"colab-df-container\">\n",
              "    <div>\n",
              "<style scoped>\n",
              "    .dataframe tbody tr th:only-of-type {\n",
              "        vertical-align: middle;\n",
              "    }\n",
              "\n",
              "    .dataframe tbody tr th {\n",
              "        vertical-align: top;\n",
              "    }\n",
              "\n",
              "    .dataframe thead th {\n",
              "        text-align: right;\n",
              "    }\n",
              "</style>\n",
              "<table border=\"1\" class=\"dataframe\">\n",
              "  <thead>\n",
              "    <tr style=\"text-align: right;\">\n",
              "      <th></th>\n",
              "      <th>Unnamed: 0</th>\n",
              "      <th>Income</th>\n",
              "      <th>Kidhome</th>\n",
              "      <th>Teenhome</th>\n",
              "      <th>Recency</th>\n",
              "      <th>MntWines</th>\n",
              "      <th>MntFruits</th>\n",
              "      <th>MntMeatProducts</th>\n",
              "      <th>MntFishProducts</th>\n",
              "      <th>MntSweetProducts</th>\n",
              "      <th>...</th>\n",
              "      <th>education_Graduation</th>\n",
              "      <th>education_Master</th>\n",
              "      <th>education_PhD</th>\n",
              "      <th>MntTotal</th>\n",
              "      <th>MntRegularProds</th>\n",
              "      <th>AcceptedCmpOverall</th>\n",
              "      <th>marital_status</th>\n",
              "      <th>education_level</th>\n",
              "      <th>kids</th>\n",
              "      <th>expenses</th>\n",
              "    </tr>\n",
              "  </thead>\n",
              "  <tbody>\n",
              "    <tr>\n",
              "      <th>0</th>\n",
              "      <td>0</td>\n",
              "      <td>58138.0</td>\n",
              "      <td>0</td>\n",
              "      <td>0</td>\n",
              "      <td>58</td>\n",
              "      <td>635</td>\n",
              "      <td>88</td>\n",
              "      <td>546</td>\n",
              "      <td>172</td>\n",
              "      <td>88</td>\n",
              "      <td>...</td>\n",
              "      <td>3.0</td>\n",
              "      <td>NaN</td>\n",
              "      <td>NaN</td>\n",
              "      <td>1529</td>\n",
              "      <td>1441</td>\n",
              "      <td>0</td>\n",
              "      <td>Single</td>\n",
              "      <td>Graduation</td>\n",
              "      <td>0</td>\n",
              "      <td>1529</td>\n",
              "    </tr>\n",
              "    <tr>\n",
              "      <th>1</th>\n",
              "      <td>1</td>\n",
              "      <td>46344.0</td>\n",
              "      <td>1</td>\n",
              "      <td>1</td>\n",
              "      <td>38</td>\n",
              "      <td>11</td>\n",
              "      <td>1</td>\n",
              "      <td>6</td>\n",
              "      <td>2</td>\n",
              "      <td>1</td>\n",
              "      <td>...</td>\n",
              "      <td>3.0</td>\n",
              "      <td>NaN</td>\n",
              "      <td>NaN</td>\n",
              "      <td>21</td>\n",
              "      <td>15</td>\n",
              "      <td>0</td>\n",
              "      <td>Single</td>\n",
              "      <td>Graduation</td>\n",
              "      <td>2</td>\n",
              "      <td>21</td>\n",
              "    </tr>\n",
              "    <tr>\n",
              "      <th>2</th>\n",
              "      <td>2</td>\n",
              "      <td>71613.0</td>\n",
              "      <td>0</td>\n",
              "      <td>0</td>\n",
              "      <td>26</td>\n",
              "      <td>426</td>\n",
              "      <td>49</td>\n",
              "      <td>127</td>\n",
              "      <td>111</td>\n",
              "      <td>21</td>\n",
              "      <td>...</td>\n",
              "      <td>3.0</td>\n",
              "      <td>NaN</td>\n",
              "      <td>NaN</td>\n",
              "      <td>734</td>\n",
              "      <td>692</td>\n",
              "      <td>0</td>\n",
              "      <td>Together</td>\n",
              "      <td>Graduation</td>\n",
              "      <td>0</td>\n",
              "      <td>734</td>\n",
              "    </tr>\n",
              "    <tr>\n",
              "      <th>3</th>\n",
              "      <td>3</td>\n",
              "      <td>26646.0</td>\n",
              "      <td>1</td>\n",
              "      <td>0</td>\n",
              "      <td>26</td>\n",
              "      <td>11</td>\n",
              "      <td>4</td>\n",
              "      <td>20</td>\n",
              "      <td>10</td>\n",
              "      <td>3</td>\n",
              "      <td>...</td>\n",
              "      <td>3.0</td>\n",
              "      <td>NaN</td>\n",
              "      <td>NaN</td>\n",
              "      <td>48</td>\n",
              "      <td>43</td>\n",
              "      <td>0</td>\n",
              "      <td>Together</td>\n",
              "      <td>Graduation</td>\n",
              "      <td>1</td>\n",
              "      <td>48</td>\n",
              "    </tr>\n",
              "    <tr>\n",
              "      <th>4</th>\n",
              "      <td>4</td>\n",
              "      <td>58293.0</td>\n",
              "      <td>1</td>\n",
              "      <td>0</td>\n",
              "      <td>94</td>\n",
              "      <td>173</td>\n",
              "      <td>43</td>\n",
              "      <td>118</td>\n",
              "      <td>46</td>\n",
              "      <td>27</td>\n",
              "      <td>...</td>\n",
              "      <td>NaN</td>\n",
              "      <td>NaN</td>\n",
              "      <td>5.0</td>\n",
              "      <td>407</td>\n",
              "      <td>392</td>\n",
              "      <td>0</td>\n",
              "      <td>Married</td>\n",
              "      <td>PhD</td>\n",
              "      <td>1</td>\n",
              "      <td>407</td>\n",
              "    </tr>\n",
              "    <tr>\n",
              "      <th>...</th>\n",
              "      <td>...</td>\n",
              "      <td>...</td>\n",
              "      <td>...</td>\n",
              "      <td>...</td>\n",
              "      <td>...</td>\n",
              "      <td>...</td>\n",
              "      <td>...</td>\n",
              "      <td>...</td>\n",
              "      <td>...</td>\n",
              "      <td>...</td>\n",
              "      <td>...</td>\n",
              "      <td>...</td>\n",
              "      <td>...</td>\n",
              "      <td>...</td>\n",
              "      <td>...</td>\n",
              "      <td>...</td>\n",
              "      <td>...</td>\n",
              "      <td>...</td>\n",
              "      <td>...</td>\n",
              "      <td>...</td>\n",
              "      <td>...</td>\n",
              "    </tr>\n",
              "    <tr>\n",
              "      <th>2200</th>\n",
              "      <td>2200</td>\n",
              "      <td>61223.0</td>\n",
              "      <td>0</td>\n",
              "      <td>1</td>\n",
              "      <td>46</td>\n",
              "      <td>709</td>\n",
              "      <td>43</td>\n",
              "      <td>182</td>\n",
              "      <td>42</td>\n",
              "      <td>118</td>\n",
              "      <td>...</td>\n",
              "      <td>3.0</td>\n",
              "      <td>NaN</td>\n",
              "      <td>NaN</td>\n",
              "      <td>1094</td>\n",
              "      <td>847</td>\n",
              "      <td>0</td>\n",
              "      <td>Married</td>\n",
              "      <td>Graduation</td>\n",
              "      <td>1</td>\n",
              "      <td>1094</td>\n",
              "    </tr>\n",
              "    <tr>\n",
              "      <th>2201</th>\n",
              "      <td>2201</td>\n",
              "      <td>64014.0</td>\n",
              "      <td>2</td>\n",
              "      <td>1</td>\n",
              "      <td>56</td>\n",
              "      <td>406</td>\n",
              "      <td>0</td>\n",
              "      <td>30</td>\n",
              "      <td>0</td>\n",
              "      <td>0</td>\n",
              "      <td>...</td>\n",
              "      <td>NaN</td>\n",
              "      <td>NaN</td>\n",
              "      <td>5.0</td>\n",
              "      <td>436</td>\n",
              "      <td>428</td>\n",
              "      <td>1</td>\n",
              "      <td>Together</td>\n",
              "      <td>PhD</td>\n",
              "      <td>3</td>\n",
              "      <td>436</td>\n",
              "    </tr>\n",
              "    <tr>\n",
              "      <th>2202</th>\n",
              "      <td>2202</td>\n",
              "      <td>56981.0</td>\n",
              "      <td>0</td>\n",
              "      <td>0</td>\n",
              "      <td>91</td>\n",
              "      <td>908</td>\n",
              "      <td>48</td>\n",
              "      <td>217</td>\n",
              "      <td>32</td>\n",
              "      <td>12</td>\n",
              "      <td>...</td>\n",
              "      <td>3.0</td>\n",
              "      <td>NaN</td>\n",
              "      <td>NaN</td>\n",
              "      <td>1217</td>\n",
              "      <td>1193</td>\n",
              "      <td>1</td>\n",
              "      <td>Divorced</td>\n",
              "      <td>Graduation</td>\n",
              "      <td>0</td>\n",
              "      <td>1217</td>\n",
              "    </tr>\n",
              "    <tr>\n",
              "      <th>2203</th>\n",
              "      <td>2203</td>\n",
              "      <td>69245.0</td>\n",
              "      <td>0</td>\n",
              "      <td>1</td>\n",
              "      <td>8</td>\n",
              "      <td>428</td>\n",
              "      <td>30</td>\n",
              "      <td>214</td>\n",
              "      <td>80</td>\n",
              "      <td>30</td>\n",
              "      <td>...</td>\n",
              "      <td>NaN</td>\n",
              "      <td>4.0</td>\n",
              "      <td>NaN</td>\n",
              "      <td>782</td>\n",
              "      <td>721</td>\n",
              "      <td>0</td>\n",
              "      <td>Together</td>\n",
              "      <td>Master</td>\n",
              "      <td>1</td>\n",
              "      <td>782</td>\n",
              "    </tr>\n",
              "    <tr>\n",
              "      <th>2204</th>\n",
              "      <td>2204</td>\n",
              "      <td>52869.0</td>\n",
              "      <td>1</td>\n",
              "      <td>1</td>\n",
              "      <td>40</td>\n",
              "      <td>84</td>\n",
              "      <td>3</td>\n",
              "      <td>61</td>\n",
              "      <td>2</td>\n",
              "      <td>1</td>\n",
              "      <td>...</td>\n",
              "      <td>NaN</td>\n",
              "      <td>NaN</td>\n",
              "      <td>5.0</td>\n",
              "      <td>151</td>\n",
              "      <td>130</td>\n",
              "      <td>0</td>\n",
              "      <td>Married</td>\n",
              "      <td>PhD</td>\n",
              "      <td>2</td>\n",
              "      <td>151</td>\n",
              "    </tr>\n",
              "  </tbody>\n",
              "</table>\n",
              "<p>2205 rows × 44 columns</p>\n",
              "</div>\n",
              "    <div class=\"colab-df-buttons\">\n",
              "\n",
              "  <div class=\"colab-df-container\">\n",
              "    <button class=\"colab-df-convert\" onclick=\"convertToInteractive('df-a299cf1b-b28a-4258-adf5-de2dbf898640')\"\n",
              "            title=\"Convert this dataframe to an interactive table.\"\n",
              "            style=\"display:none;\">\n",
              "\n",
              "  <svg xmlns=\"http://www.w3.org/2000/svg\" height=\"24px\" viewBox=\"0 -960 960 960\">\n",
              "    <path d=\"M120-120v-720h720v720H120Zm60-500h600v-160H180v160Zm220 220h160v-160H400v160Zm0 220h160v-160H400v160ZM180-400h160v-160H180v160Zm440 0h160v-160H620v160ZM180-180h160v-160H180v160Zm440 0h160v-160H620v160Z\"/>\n",
              "  </svg>\n",
              "    </button>\n",
              "\n",
              "  <style>\n",
              "    .colab-df-container {\n",
              "      display:flex;\n",
              "      gap: 12px;\n",
              "    }\n",
              "\n",
              "    .colab-df-convert {\n",
              "      background-color: #E8F0FE;\n",
              "      border: none;\n",
              "      border-radius: 50%;\n",
              "      cursor: pointer;\n",
              "      display: none;\n",
              "      fill: #1967D2;\n",
              "      height: 32px;\n",
              "      padding: 0 0 0 0;\n",
              "      width: 32px;\n",
              "    }\n",
              "\n",
              "    .colab-df-convert:hover {\n",
              "      background-color: #E2EBFA;\n",
              "      box-shadow: 0px 1px 2px rgba(60, 64, 67, 0.3), 0px 1px 3px 1px rgba(60, 64, 67, 0.15);\n",
              "      fill: #174EA6;\n",
              "    }\n",
              "\n",
              "    .colab-df-buttons div {\n",
              "      margin-bottom: 4px;\n",
              "    }\n",
              "\n",
              "    [theme=dark] .colab-df-convert {\n",
              "      background-color: #3B4455;\n",
              "      fill: #D2E3FC;\n",
              "    }\n",
              "\n",
              "    [theme=dark] .colab-df-convert:hover {\n",
              "      background-color: #434B5C;\n",
              "      box-shadow: 0px 1px 3px 1px rgba(0, 0, 0, 0.15);\n",
              "      filter: drop-shadow(0px 1px 2px rgba(0, 0, 0, 0.3));\n",
              "      fill: #FFFFFF;\n",
              "    }\n",
              "  </style>\n",
              "\n",
              "    <script>\n",
              "      const buttonEl =\n",
              "        document.querySelector('#df-a299cf1b-b28a-4258-adf5-de2dbf898640 button.colab-df-convert');\n",
              "      buttonEl.style.display =\n",
              "        google.colab.kernel.accessAllowed ? 'block' : 'none';\n",
              "\n",
              "      async function convertToInteractive(key) {\n",
              "        const element = document.querySelector('#df-a299cf1b-b28a-4258-adf5-de2dbf898640');\n",
              "        const dataTable =\n",
              "          await google.colab.kernel.invokeFunction('convertToInteractive',\n",
              "                                                    [key], {});\n",
              "        if (!dataTable) return;\n",
              "\n",
              "        const docLinkHtml = 'Like what you see? Visit the ' +\n",
              "          '<a target=\"_blank\" href=https://colab.research.google.com/notebooks/data_table.ipynb>data table notebook</a>'\n",
              "          + ' to learn more about interactive tables.';\n",
              "        element.innerHTML = '';\n",
              "        dataTable['output_type'] = 'display_data';\n",
              "        await google.colab.output.renderOutput(dataTable, element);\n",
              "        const docLink = document.createElement('div');\n",
              "        docLink.innerHTML = docLinkHtml;\n",
              "        element.appendChild(docLink);\n",
              "      }\n",
              "    </script>\n",
              "  </div>\n",
              "\n",
              "\n",
              "<div id=\"df-b6adc4d4-a827-4db7-af0b-73ca0afabaa7\">\n",
              "  <button class=\"colab-df-quickchart\" onclick=\"quickchart('df-b6adc4d4-a827-4db7-af0b-73ca0afabaa7')\"\n",
              "            title=\"Suggest charts\"\n",
              "            style=\"display:none;\">\n",
              "\n",
              "<svg xmlns=\"http://www.w3.org/2000/svg\" height=\"24px\"viewBox=\"0 0 24 24\"\n",
              "     width=\"24px\">\n",
              "    <g>\n",
              "        <path d=\"M19 3H5c-1.1 0-2 .9-2 2v14c0 1.1.9 2 2 2h14c1.1 0 2-.9 2-2V5c0-1.1-.9-2-2-2zM9 17H7v-7h2v7zm4 0h-2V7h2v10zm4 0h-2v-4h2v4z\"/>\n",
              "    </g>\n",
              "</svg>\n",
              "  </button>\n",
              "\n",
              "<style>\n",
              "  .colab-df-quickchart {\n",
              "      --bg-color: #E8F0FE;\n",
              "      --fill-color: #1967D2;\n",
              "      --hover-bg-color: #E2EBFA;\n",
              "      --hover-fill-color: #174EA6;\n",
              "      --disabled-fill-color: #AAA;\n",
              "      --disabled-bg-color: #DDD;\n",
              "  }\n",
              "\n",
              "  [theme=dark] .colab-df-quickchart {\n",
              "      --bg-color: #3B4455;\n",
              "      --fill-color: #D2E3FC;\n",
              "      --hover-bg-color: #434B5C;\n",
              "      --hover-fill-color: #FFFFFF;\n",
              "      --disabled-bg-color: #3B4455;\n",
              "      --disabled-fill-color: #666;\n",
              "  }\n",
              "\n",
              "  .colab-df-quickchart {\n",
              "    background-color: var(--bg-color);\n",
              "    border: none;\n",
              "    border-radius: 50%;\n",
              "    cursor: pointer;\n",
              "    display: none;\n",
              "    fill: var(--fill-color);\n",
              "    height: 32px;\n",
              "    padding: 0;\n",
              "    width: 32px;\n",
              "  }\n",
              "\n",
              "  .colab-df-quickchart:hover {\n",
              "    background-color: var(--hover-bg-color);\n",
              "    box-shadow: 0 1px 2px rgba(60, 64, 67, 0.3), 0 1px 3px 1px rgba(60, 64, 67, 0.15);\n",
              "    fill: var(--button-hover-fill-color);\n",
              "  }\n",
              "\n",
              "  .colab-df-quickchart-complete:disabled,\n",
              "  .colab-df-quickchart-complete:disabled:hover {\n",
              "    background-color: var(--disabled-bg-color);\n",
              "    fill: var(--disabled-fill-color);\n",
              "    box-shadow: none;\n",
              "  }\n",
              "\n",
              "  .colab-df-spinner {\n",
              "    border: 2px solid var(--fill-color);\n",
              "    border-color: transparent;\n",
              "    border-bottom-color: var(--fill-color);\n",
              "    animation:\n",
              "      spin 1s steps(1) infinite;\n",
              "  }\n",
              "\n",
              "  @keyframes spin {\n",
              "    0% {\n",
              "      border-color: transparent;\n",
              "      border-bottom-color: var(--fill-color);\n",
              "      border-left-color: var(--fill-color);\n",
              "    }\n",
              "    20% {\n",
              "      border-color: transparent;\n",
              "      border-left-color: var(--fill-color);\n",
              "      border-top-color: var(--fill-color);\n",
              "    }\n",
              "    30% {\n",
              "      border-color: transparent;\n",
              "      border-left-color: var(--fill-color);\n",
              "      border-top-color: var(--fill-color);\n",
              "      border-right-color: var(--fill-color);\n",
              "    }\n",
              "    40% {\n",
              "      border-color: transparent;\n",
              "      border-right-color: var(--fill-color);\n",
              "      border-top-color: var(--fill-color);\n",
              "    }\n",
              "    60% {\n",
              "      border-color: transparent;\n",
              "      border-right-color: var(--fill-color);\n",
              "    }\n",
              "    80% {\n",
              "      border-color: transparent;\n",
              "      border-right-color: var(--fill-color);\n",
              "      border-bottom-color: var(--fill-color);\n",
              "    }\n",
              "    90% {\n",
              "      border-color: transparent;\n",
              "      border-bottom-color: var(--fill-color);\n",
              "    }\n",
              "  }\n",
              "</style>\n",
              "\n",
              "  <script>\n",
              "    async function quickchart(key) {\n",
              "      const quickchartButtonEl =\n",
              "        document.querySelector('#' + key + ' button');\n",
              "      quickchartButtonEl.disabled = true;  // To prevent multiple clicks.\n",
              "      quickchartButtonEl.classList.add('colab-df-spinner');\n",
              "      try {\n",
              "        const charts = await google.colab.kernel.invokeFunction(\n",
              "            'suggestCharts', [key], {});\n",
              "      } catch (error) {\n",
              "        console.error('Error during call to suggestCharts:', error);\n",
              "      }\n",
              "      quickchartButtonEl.classList.remove('colab-df-spinner');\n",
              "      quickchartButtonEl.classList.add('colab-df-quickchart-complete');\n",
              "    }\n",
              "    (() => {\n",
              "      let quickchartButtonEl =\n",
              "        document.querySelector('#df-b6adc4d4-a827-4db7-af0b-73ca0afabaa7 button');\n",
              "      quickchartButtonEl.style.display =\n",
              "        google.colab.kernel.accessAllowed ? 'block' : 'none';\n",
              "    })();\n",
              "  </script>\n",
              "</div>\n",
              "\n",
              "  <div id=\"id_b94cc1bb-9529-49ca-80f9-37b2a2bcd22f\">\n",
              "    <style>\n",
              "      .colab-df-generate {\n",
              "        background-color: #E8F0FE;\n",
              "        border: none;\n",
              "        border-radius: 50%;\n",
              "        cursor: pointer;\n",
              "        display: none;\n",
              "        fill: #1967D2;\n",
              "        height: 32px;\n",
              "        padding: 0 0 0 0;\n",
              "        width: 32px;\n",
              "      }\n",
              "\n",
              "      .colab-df-generate:hover {\n",
              "        background-color: #E2EBFA;\n",
              "        box-shadow: 0px 1px 2px rgba(60, 64, 67, 0.3), 0px 1px 3px 1px rgba(60, 64, 67, 0.15);\n",
              "        fill: #174EA6;\n",
              "      }\n",
              "\n",
              "      [theme=dark] .colab-df-generate {\n",
              "        background-color: #3B4455;\n",
              "        fill: #D2E3FC;\n",
              "      }\n",
              "\n",
              "      [theme=dark] .colab-df-generate:hover {\n",
              "        background-color: #434B5C;\n",
              "        box-shadow: 0px 1px 3px 1px rgba(0, 0, 0, 0.15);\n",
              "        filter: drop-shadow(0px 1px 2px rgba(0, 0, 0, 0.3));\n",
              "        fill: #FFFFFF;\n",
              "      }\n",
              "    </style>\n",
              "    <button class=\"colab-df-generate\" onclick=\"generateWithVariable('df')\"\n",
              "            title=\"Generate code using this dataframe.\"\n",
              "            style=\"display:none;\">\n",
              "\n",
              "  <svg xmlns=\"http://www.w3.org/2000/svg\" height=\"24px\"viewBox=\"0 0 24 24\"\n",
              "       width=\"24px\">\n",
              "    <path d=\"M7,19H8.4L18.45,9,17,7.55,7,17.6ZM5,21V16.75L18.45,3.32a2,2,0,0,1,2.83,0l1.4,1.43a1.91,1.91,0,0,1,.58,1.4,1.91,1.91,0,0,1-.58,1.4L9.25,21ZM18.45,9,17,7.55Zm-12,3A5.31,5.31,0,0,0,4.9,8.1,5.31,5.31,0,0,0,1,6.5,5.31,5.31,0,0,0,4.9,4.9,5.31,5.31,0,0,0,6.5,1,5.31,5.31,0,0,0,8.1,4.9,5.31,5.31,0,0,0,12,6.5,5.46,5.46,0,0,0,6.5,12Z\"/>\n",
              "  </svg>\n",
              "    </button>\n",
              "    <script>\n",
              "      (() => {\n",
              "      const buttonEl =\n",
              "        document.querySelector('#id_b94cc1bb-9529-49ca-80f9-37b2a2bcd22f button.colab-df-generate');\n",
              "      buttonEl.style.display =\n",
              "        google.colab.kernel.accessAllowed ? 'block' : 'none';\n",
              "\n",
              "      buttonEl.onclick = () => {\n",
              "        google.colab.notebook.generateWithVariable('df');\n",
              "      }\n",
              "      })();\n",
              "    </script>\n",
              "  </div>\n",
              "\n",
              "    </div>\n",
              "  </div>\n"
            ],
            "application/vnd.google.colaboratory.intrinsic+json": {
              "type": "dataframe",
              "variable_name": "df"
            }
          },
          "metadata": {},
          "execution_count": 3
        }
      ]
    },
    {
      "cell_type": "markdown",
      "source": [
        "#Começamos com  Ifood - Parte 3"
      ],
      "metadata": {
        "id": "R2cQNADn0G6T"
      }
    },
    {
      "cell_type": "markdown",
      "source": [
        "Queremos saber se o fato de um cliente reclamar na plataforma o torna não_cliente.\n",
        "\n",
        "Tomando como base a coluna Complain, vamos verificar se o grupo de clientes que reclamam tem menos gastos (expense) do que os clientes que não reclamam. Use um teste paramétrico e um não paramétrico.\n",
        "Discuta as diferenças:\n",
        "\n",
        "###Vamos iniciar por comparar 2 médias de gastos: os clientes que reclamam e os clientes que não reclamam. Primeiro, vamos ver a quantidade de clientes de cada grupo."
      ],
      "metadata": {
        "id": "C3b3bgaA0SDb"
      }
    },
    {
      "cell_type": "code",
      "source": [
        "#contar os clientes  dos dois grupos\n",
        "df[\"Complain\"].value_counts()"
      ],
      "metadata": {
        "colab": {
          "base_uri": "https://localhost:8080/",
          "height": 178
        },
        "id": "Dyaf7hSX0xVS",
        "outputId": "7346cd9e-db25-4c5e-f3b9-c7d569f4a317"
      },
      "execution_count": null,
      "outputs": [
        {
          "output_type": "execute_result",
          "data": {
            "text/plain": [
              "Complain\n",
              "0    2185\n",
              "1      20\n",
              "Name: count, dtype: int64"
            ],
            "text/html": [
              "<div>\n",
              "<style scoped>\n",
              "    .dataframe tbody tr th:only-of-type {\n",
              "        vertical-align: middle;\n",
              "    }\n",
              "\n",
              "    .dataframe tbody tr th {\n",
              "        vertical-align: top;\n",
              "    }\n",
              "\n",
              "    .dataframe thead th {\n",
              "        text-align: right;\n",
              "    }\n",
              "</style>\n",
              "<table border=\"1\" class=\"dataframe\">\n",
              "  <thead>\n",
              "    <tr style=\"text-align: right;\">\n",
              "      <th></th>\n",
              "      <th>count</th>\n",
              "    </tr>\n",
              "    <tr>\n",
              "      <th>Complain</th>\n",
              "      <th></th>\n",
              "    </tr>\n",
              "  </thead>\n",
              "  <tbody>\n",
              "    <tr>\n",
              "      <th>0</th>\n",
              "      <td>2185</td>\n",
              "    </tr>\n",
              "    <tr>\n",
              "      <th>1</th>\n",
              "      <td>20</td>\n",
              "    </tr>\n",
              "  </tbody>\n",
              "</table>\n",
              "</div><br><label><b>dtype:</b> int64</label>"
            ]
          },
          "metadata": {},
          "execution_count": 4
        }
      ]
    },
    {
      "cell_type": "markdown",
      "source": [
        "Podemos verificar que reclamaram 20 clientes"
      ],
      "metadata": {
        "id": "ZjHoXU401jA2"
      }
    },
    {
      "cell_type": "code",
      "source": [
        "#calcular a média para os dois grupos\n",
        "df.groupby(\"Complain\")[\"expenses\"].mean()"
      ],
      "metadata": {
        "colab": {
          "base_uri": "https://localhost:8080/",
          "height": 178
        },
        "id": "WSQXwm7u1ohk",
        "outputId": "0223965d-c269-4729-d34d-236494c9b1d8"
      },
      "execution_count": null,
      "outputs": [
        {
          "output_type": "execute_result",
          "data": {
            "text/plain": [
              "Complain\n",
              "0    564.58032\n",
              "1    364.40000\n",
              "Name: expenses, dtype: float64"
            ],
            "text/html": [
              "<div>\n",
              "<style scoped>\n",
              "    .dataframe tbody tr th:only-of-type {\n",
              "        vertical-align: middle;\n",
              "    }\n",
              "\n",
              "    .dataframe tbody tr th {\n",
              "        vertical-align: top;\n",
              "    }\n",
              "\n",
              "    .dataframe thead th {\n",
              "        text-align: right;\n",
              "    }\n",
              "</style>\n",
              "<table border=\"1\" class=\"dataframe\">\n",
              "  <thead>\n",
              "    <tr style=\"text-align: right;\">\n",
              "      <th></th>\n",
              "      <th>expenses</th>\n",
              "    </tr>\n",
              "    <tr>\n",
              "      <th>Complain</th>\n",
              "      <th></th>\n",
              "    </tr>\n",
              "  </thead>\n",
              "  <tbody>\n",
              "    <tr>\n",
              "      <th>0</th>\n",
              "      <td>564.58032</td>\n",
              "    </tr>\n",
              "    <tr>\n",
              "      <th>1</th>\n",
              "      <td>364.40000</td>\n",
              "    </tr>\n",
              "  </tbody>\n",
              "</table>\n",
              "</div><br><label><b>dtype:</b> float64</label>"
            ]
          },
          "metadata": {},
          "execution_count": 5
        }
      ]
    },
    {
      "cell_type": "markdown",
      "source": [
        "Como verificamos na contagem dos grupos temos 20 clientes que reclamaram. Por isso estamos no limite de poder usar um teste paramétrico.\n",
        "\n",
        "Para essa situação, podemos utilizar o teste t para amostras independentes, assumindo que os clientes que reclamaram não são os mesmos em ambas as amostras. Primeiramente, precisamos verificar a homogeneidade das variâncias populacionais com um teste F. Esse teste nos dirá se devemos usar o teste t para amostras com variâncias iguais ou o teste t para amostras com variâncias diferentes."
      ],
      "metadata": {
        "id": "25ZXGiej1v7m"
      }
    },
    {
      "cell_type": "code",
      "source": [
        "#calcular as variancias\n",
        "df.groupby(\"Complain\")[\"expenses\"].var().round(2)"
      ],
      "metadata": {
        "colab": {
          "base_uri": "https://localhost:8080/",
          "height": 178
        },
        "id": "ZXnGe0QJ11rd",
        "outputId": "468d82a8-7967-4b1e-b58f-4d9b2e9ae451"
      },
      "execution_count": null,
      "outputs": [
        {
          "output_type": "execute_result",
          "data": {
            "text/plain": [
              "Complain\n",
              "0    332812.91\n",
              "1    179818.78\n",
              "Name: expenses, dtype: float64"
            ],
            "text/html": [
              "<div>\n",
              "<style scoped>\n",
              "    .dataframe tbody tr th:only-of-type {\n",
              "        vertical-align: middle;\n",
              "    }\n",
              "\n",
              "    .dataframe tbody tr th {\n",
              "        vertical-align: top;\n",
              "    }\n",
              "\n",
              "    .dataframe thead th {\n",
              "        text-align: right;\n",
              "    }\n",
              "</style>\n",
              "<table border=\"1\" class=\"dataframe\">\n",
              "  <thead>\n",
              "    <tr style=\"text-align: right;\">\n",
              "      <th></th>\n",
              "      <th>expenses</th>\n",
              "    </tr>\n",
              "    <tr>\n",
              "      <th>Complain</th>\n",
              "      <th></th>\n",
              "    </tr>\n",
              "  </thead>\n",
              "  <tbody>\n",
              "    <tr>\n",
              "      <th>0</th>\n",
              "      <td>332812.91</td>\n",
              "    </tr>\n",
              "    <tr>\n",
              "      <th>1</th>\n",
              "      <td>179818.78</td>\n",
              "    </tr>\n",
              "  </tbody>\n",
              "</table>\n",
              "</div><br><label><b>dtype:</b> float64</label>"
            ]
          },
          "metadata": {},
          "execution_count": 6
        }
      ]
    },
    {
      "cell_type": "markdown",
      "source": [
        "A variancia da amostra do grupo que \"nao reclama\" é maior."
      ],
      "metadata": {
        "id": "snmFy5OJ174v"
      }
    },
    {
      "cell_type": "markdown",
      "source": [
        "#Teste F para variância\n",
        "H0: variâncias são iguais\n",
        "\n",
        "H1: variâncias são diferentes"
      ],
      "metadata": {
        "id": "iE7K1-j02B2q"
      }
    },
    {
      "cell_type": "code",
      "source": [
        "import scipy.stats\n",
        "\n",
        "#grupo que reclama\n",
        "reclamam = df[df[\"Complain\"] == 1].expenses\n",
        "\n",
        "#rupo que não reclama\n",
        "nao_reclamam = df[df[\"Complain\"] == 0].expenses\n",
        "\n",
        "df_reclama = len(reclamam) - 1 #grau de liberdade da primeira amostra\n",
        "\n",
        "df_nao_reclama = len(nao_reclamam) - 1 #grau de liberdade da segunda amostra\n",
        "\n",
        "F = nao_reclamam.var() / reclamam.var() #A maior variância tem que ir no numerador!\n",
        "\n",
        "alpha = 0.05\n",
        "\n",
        "#p-valor para o teste F\n",
        "1 - scipy.stats.f.cdf(F, df_nao_reclama, df_reclama)"
      ],
      "metadata": {
        "colab": {
          "base_uri": "https://localhost:8080/"
        },
        "id": "fS3_lhLE2LQ_",
        "outputId": "f5119939-6dc0-42f8-f1e9-d4205e20c271"
      },
      "execution_count": null,
      "outputs": [
        {
          "output_type": "execute_result",
          "data": {
            "text/plain": [
              "0.05434239363439408"
            ]
          },
          "metadata": {},
          "execution_count": 7
        }
      ]
    },
    {
      "cell_type": "markdown",
      "source": [
        "Podemos ver que o p-valor está no limite! Como temos apenas 20 amostras em um dos grupos, vamos fazer um teste para variância não paramétrico."
      ],
      "metadata": {
        "id": "o0a-7V2S2R0E"
      }
    },
    {
      "cell_type": "markdown",
      "source": [
        "##Levene\n",
        "\n",
        "O teste de Levene testa a hipótese nula de que todas as amostras de entrada são de populações com variâncias iguais. O teste de Levene é uma alternativa ao teste de Bartlett de Bartlett no caso de existirem desvios significativos da normalidade."
      ],
      "metadata": {
        "id": "iqP6SIR22fTE"
      }
    },
    {
      "cell_type": "code",
      "source": [
        "from scipy.stats import levene\n",
        "levene(nao_reclamam, reclamam)"
      ],
      "metadata": {
        "colab": {
          "base_uri": "https://localhost:8080/"
        },
        "id": "5aBuAqqz2oI8",
        "outputId": "264c78e7-a644-4567-d0f8-dfde3ed847a9"
      },
      "execution_count": null,
      "outputs": [
        {
          "output_type": "execute_result",
          "data": {
            "text/plain": [
              "LeveneResult(statistic=2.443754914525847, pvalue=0.11813710491195226)"
            ]
          },
          "metadata": {},
          "execution_count": 8
        }
      ]
    },
    {
      "cell_type": "markdown",
      "source": [
        "Como podemos verificar nos dois calculos  os p-valores deram maior do que 0.05, portanto não rejeitamos a hipótese nula e assumimos que de fato as variâncias dos dois grupos são iguais."
      ],
      "metadata": {
        "id": "ErT3UpoB2viM"
      }
    },
    {
      "cell_type": "markdown",
      "source": [
        "##Teste t para 2 médias\n",
        "H0: médias são iguais\n",
        "\n",
        "H1: médias são diferentes"
      ],
      "metadata": {
        "id": "92VmczNY20Au"
      }
    },
    {
      "cell_type": "code",
      "source": [
        "import scipy.stats as stats\n",
        "\n",
        "#verificamos anteriormente que as variancias sao iguais\n",
        "stats.ttest_ind(reclamam, nao_reclamam, equal_var=True) #vimos anteriormente que as variancias sao iguais\n",
        "\n",
        "#retorna t e p-valor"
      ],
      "metadata": {
        "colab": {
          "base_uri": "https://localhost:8080/"
        },
        "id": "ui1fEfe529Uq",
        "outputId": "5152edfb-ac32-4113-d466-eee267e59c19"
      },
      "execution_count": null,
      "outputs": [
        {
          "output_type": "execute_result",
          "data": {
            "text/plain": [
              "TtestResult(statistic=-1.5478196650248075, pvalue=0.12180935471513424, df=2203.0)"
            ]
          },
          "metadata": {},
          "execution_count": 9
        }
      ]
    },
    {
      "cell_type": "markdown",
      "source": [
        "O p-valor diz.nos para não rejeitar a hipótese nula, ou seja, assumimos que as médias são estatisticamente iguais a 95% de confiança.\n",
        "\n",
        "###Vamos agora fazer um teste não paramétrico. O equivalente ao teste t para 2 amostras independentes é o mann-whitney. Desta forma vamos confirmamos se realmente rejeitamos a hipótese nula."
      ],
      "metadata": {
        "id": "pkB2m1BI3CIB"
      }
    },
    {
      "cell_type": "code",
      "source": [
        "import scipy.stats as stats\n",
        "\n",
        "stats.mannwhitneyu(reclamam, nao_reclamam)"
      ],
      "metadata": {
        "colab": {
          "base_uri": "https://localhost:8080/"
        },
        "id": "RtUgk-nK3OS7",
        "outputId": "cdb6d683-10ff-4560-ba8d-356314e3305e"
      },
      "execution_count": null,
      "outputs": [
        {
          "output_type": "execute_result",
          "data": {
            "text/plain": [
              "MannwhitneyuResult(statistic=17113.0, pvalue=0.09469749118274157)"
            ]
          },
          "metadata": {},
          "execution_count": 10
        }
      ]
    },
    {
      "cell_type": "markdown",
      "source": [
        "O resultado deste teste também nos diz que de fato não devemos rejeitar H0. Portanto, consideramos que as médias de \"expenses\" para os dois os grupos são estatisticamente iguais a 95% de confiança"
      ],
      "metadata": {
        "id": "VS3tWXr_3Sv6"
      }
    },
    {
      "cell_type": "markdown",
      "source": [
        "##Bootstrap\n",
        "\n",
        "Bootstrap é um método estatístico de reamostragem que envolve a geração de múltiplas amostras a partir de uma única amostra original, com reposição. Este método é usado para estimar a distribuição de uma estatística (como a média, a mediana, o desvio padrão, etc.) e para obter intervalos de confiança ou testar hipóteses, especialmente quando a amostra original é pequena ou quando as suposições de métodos paramétricos não são atendidas."
      ],
      "metadata": {
        "id": "0emyA5ja3V0i"
      }
    },
    {
      "cell_type": "code",
      "source": [
        "import matplotlib.pyplot as plt\n",
        "\n",
        "means = [] #alocar as médias\n",
        "media_reclamam = [] #alocar as médias de clientes que reclamaram\n",
        "media_naoreclamam = [] #alocar as médias de clientes que não reclamaram\n",
        "\n",
        "\n",
        "for i in range (10000): #criando reamostragens\n",
        "\n",
        "    reclamam = df[df[\"Complain\"] == 1].expenses.sample(len(df[df[\"Complain\"] == 1].expenses), replace = True).mean()\n",
        "    nao_reclamam = df[df[\"Complain\"] == 0].expenses.sample(len(df[df[\"Complain\"] == 0].expenses), replace = True).mean()\n",
        "\n",
        "    media_reclamam.append(reclamam) #aloca a média de clientes que não reclamaram\n",
        "    media_naoreclamam.append(nao_reclamam) #aloca a média de clientes que não reclamaram\n",
        "\n",
        "    means.append(reclamam - nao_reclamam) #calcula a diferença das médias\n",
        "\n",
        "#Lets plot this\n",
        "plt.hist(media_reclamam, alpha=0.5);\n",
        "plt.hist(media_naoreclamam, alpha=0.5);"
      ],
      "metadata": {
        "colab": {
          "base_uri": "https://localhost:8080/",
          "height": 430
        },
        "id": "JWfGHAni3lt0",
        "outputId": "695a61bc-d5e7-4bcb-f475-eb91d58b4100"
      },
      "execution_count": null,
      "outputs": [
        {
          "output_type": "display_data",
          "data": {
            "text/plain": [
              "<Figure size 640x480 with 1 Axes>"
            ],
            "image/png": "[encoded data removed]"
          },
          "metadata": {}
        }
      ]
    },
    {
      "cell_type": "code",
      "source": [
        "nao_reclamam.round(2)"
      ],
      "metadata": {
        "colab": {
          "base_uri": "https://localhost:8080/"
        },
        "id": "kizER5--3rt2",
        "outputId": "8009f56f-b933-4692-ca65-17ec3cd0380f"
      },
      "execution_count": null,
      "outputs": [
        {
          "output_type": "execute_result",
          "data": {
            "text/plain": [
              "553.16"
            ]
          },
          "metadata": {},
          "execution_count": 12
        }
      ]
    },
    {
      "cell_type": "code",
      "source": [
        "plt.hist(means);"
      ],
      "metadata": {
        "colab": {
          "base_uri": "https://localhost:8080/",
          "height": 430
        },
        "id": "-DaUimTq3xVI",
        "outputId": "757f00c5-b552-4c5b-8050-615024855289"
      },
      "execution_count": null,
      "outputs": [
        {
          "output_type": "display_data",
          "data": {
            "text/plain": [
              "<Figure size 640x480 with 1 Axes>"
            ],
            "image/png": "[encoded data removed]"
          },
          "metadata": {}
        }
      ]
    },
    {
      "cell_type": "code",
      "source": [
        "import numpy as np\n",
        "a = np.array(means)\n",
        "\n",
        "pinf = np.percentile(a, 2.5) # percentil 2.5\n",
        "\n",
        "psup = np.percentile(a, 97.5) # percentil 2.5\n",
        "\n",
        "print(pinf,psup)"
      ],
      "metadata": {
        "colab": {
          "base_uri": "https://localhost:8080/"
        },
        "id": "5C1p0Ndn360o",
        "outputId": "c3a7f7f3-0898-424c-d869-c118d9c9ba15"
      },
      "execution_count": null,
      "outputs": [
        {
          "output_type": "stream",
          "name": "stdout",
          "text": [
            "-370.5528203661328 -5.347717391304368\n"
          ]
        }
      ]
    },
    {
      "cell_type": "markdown",
      "source": [
        "Com o bootstrap mostra que as amostras são de fato diferentes, uma vez que o intervalo de confiança não passa pelo zero.\n",
        "\n",
        "O nosso objetivo era verificar se o grupo de clientes que reclama tem menos gastos do que os clientes que não reclamam, mas, como vimos nos testes que fizemos anteriormente, o resultado é inconclusivo. Dois dos testes indicam para não rejeitar H0, o que significa que consideramos que as médias de \"expanses\" para os dois grupos são estatisticamente iguais com um nível de confiança de 95%. O método de bootstrap, por outro lado, rejeita H0. Como estamos a trabalhar muito próximo do alfa e de n, e fizemos 3 testes diferentes que não concordam entre si, o resultado mantém-se incerto."
      ],
      "metadata": {
        "id": "yEc1p_Cg4Cvc"
      }
    }
  ]
}